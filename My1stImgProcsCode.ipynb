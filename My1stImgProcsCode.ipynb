{
  "nbformat": 4,
  "nbformat_minor": 0,
  "metadata": {
    "colab": {
      "provenance": [],
      "authorship_tag": "ABX9TyMRhhc/iPQsx/glGrYIdcuI",
      "include_colab_link": true
    },
    "kernelspec": {
      "name": "python3",
      "display_name": "Python 3"
    },
    "language_info": {
      "name": "python"
    }
  },
  "cells": [
    {
      "cell_type": "markdown",
      "metadata": {
        "id": "view-in-github",
        "colab_type": "text"
      },
      "source": [
        "<a href=\"https://colab.research.google.com/github/Sana-Allah-Kheiri/jupyterlab/blob/main/My1stImgProcsCode.ipynb\" target=\"_parent\"><img src=\"https://colab.research.google.com/assets/colab-badge.svg\" alt=\"Open In Colab\"/></a>"
      ]
    },
    {
      "cell_type": "code",
      "execution_count": 14,
      "metadata": {
        "colab": {
          "base_uri": "https://localhost:8080/"
        },
        "id": "XX8a98PbS8wq",
        "outputId": "1c04dde9-571e-4fc2-d95d-96ebc16bdfeb"
      },
      "outputs": [
        {
          "output_type": "stream",
          "name": "stdout",
          "text": [
            "\n",
            " Gray-Scaled Channel\n",
            " [[0.12314706 0.12314706 0.1234298  ... 0.07043255 0.07043255 0.06651098]\n",
            " [0.12314706 0.12314706 0.1234298  ... 0.07043255 0.07043255 0.07043255]\n",
            " [0.12706863 0.12706863 0.12735137 ... 0.07043255 0.07043255 0.07043255]\n",
            " ...\n",
            " [0.11010157 0.11598745 0.09417725 ... 0.43390039 0.56058    0.50092235]\n",
            " [0.10618    0.12496941 0.13339294 ... 0.28652471 0.25960235 0.20645725]\n",
            " [0.10618    0.12496941 0.17935059 ... 0.22748588 0.21515569 0.25076314]] \n",
            " RGB channel\n",
            "[[[0.12314706 0.12314706 0.12314706]\n",
            "  [0.12314706 0.12314706 0.12314706]\n",
            "  [0.1234298  0.1234298  0.1234298 ]\n",
            "  ...\n",
            "  [0.07043255 0.07043255 0.07043255]\n",
            "  [0.07043255 0.07043255 0.07043255]\n",
            "  [0.06651098 0.06651098 0.06651098]]\n",
            "\n",
            " [[0.12314706 0.12314706 0.12314706]\n",
            "  [0.12314706 0.12314706 0.12314706]\n",
            "  [0.1234298  0.1234298  0.1234298 ]\n",
            "  ...\n",
            "  [0.07043255 0.07043255 0.07043255]\n",
            "  [0.07043255 0.07043255 0.07043255]\n",
            "  [0.07043255 0.07043255 0.07043255]]\n",
            "\n",
            " [[0.12706863 0.12706863 0.12706863]\n",
            "  [0.12706863 0.12706863 0.12706863]\n",
            "  [0.12735137 0.12735137 0.12735137]\n",
            "  ...\n",
            "  [0.07043255 0.07043255 0.07043255]\n",
            "  [0.07043255 0.07043255 0.07043255]\n",
            "  [0.07043255 0.07043255 0.07043255]]\n",
            "\n",
            " ...\n",
            "\n",
            " [[0.11010157 0.11010157 0.11010157]\n",
            "  [0.11598745 0.11598745 0.11598745]\n",
            "  [0.09417725 0.09417725 0.09417725]\n",
            "  ...\n",
            "  [0.43390039 0.43390039 0.43390039]\n",
            "  [0.56058    0.56058    0.56058   ]\n",
            "  [0.50092235 0.50092235 0.50092235]]\n",
            "\n",
            " [[0.10618    0.10618    0.10618   ]\n",
            "  [0.12496941 0.12496941 0.12496941]\n",
            "  [0.13339294 0.13339294 0.13339294]\n",
            "  ...\n",
            "  [0.28652471 0.28652471 0.28652471]\n",
            "  [0.25960235 0.25960235 0.25960235]\n",
            "  [0.20645725 0.20645725 0.20645725]]\n",
            "\n",
            " [[0.10618    0.10618    0.10618   ]\n",
            "  [0.12496941 0.12496941 0.12496941]\n",
            "  [0.17935059 0.17935059 0.17935059]\n",
            "  ...\n",
            "  [0.22748588 0.22748588 0.22748588]\n",
            "  [0.21515569 0.21515569 0.21515569]\n",
            "  [0.25076314 0.25076314 0.25076314]]]\n",
            "There is a first time for everything! Congrats Sir for your 1st step!!\n"
          ]
        }
      ],
      "source": [
        "from skimage import data\n",
        "from skimage import color\n",
        "rocketImg = data.rocket()\n",
        "grayRocket = color.rgb2gray(rocketImg)\n",
        "OriginalRocket = color.gray2rgb(grayRocket)\n",
        "print('\\n Gray-Scaled Channel\\n' ,grayRocket, '\\n RGB channel')\n",
        "print(OriginalRocket)\n",
        "print('There is a first time for everything! Congrats Sir for your 1st step!!')"
      ]
    }
  ]
}